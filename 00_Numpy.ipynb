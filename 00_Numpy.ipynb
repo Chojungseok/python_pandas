{
 "cells": [
  {
   "cell_type": "code",
   "execution_count": 2,
   "id": "2c8c2b3d-4f19-4438-bc35-b0ac5968af0d",
   "metadata": {},
   "outputs": [],
   "source": [
    "import numpy as np"
   ]
  },
  {
   "cell_type": "code",
   "execution_count": 5,
   "id": "06b8e162-a079-4bf2-becc-c61a2607f116",
   "metadata": {},
   "outputs": [],
   "source": [
    "my_list = list(range(1000000))\n",
    "my_array = np.arange(1000000)"
   ]
  },
  {
   "cell_type": "code",
   "execution_count": 7,
   "id": "642905c1-3e7b-4d9e-adc7-067d28bd2f46",
   "metadata": {},
   "outputs": [
    {
     "name": "stdout",
     "output_type": "stream",
     "text": [
      "23.4 ms ± 100 μs per loop (mean ± std. dev. of 7 runs, 10 loops each)\n",
      "650 μs ± 7.5 μs per loop (mean ± std. dev. of 7 runs, 1,000 loops each)\n"
     ]
    }
   ],
   "source": [
    "%timeit my_list2 = [i * 2 for i in my_list]\n",
    "%timeit my_array2 = my_array * 2"
   ]
  },
  {
   "cell_type": "code",
   "execution_count": 30,
   "id": "80f011e5-70fe-4913-9688-52ef86ea9df0",
   "metadata": {},
   "outputs": [
    {
     "name": "stdout",
     "output_type": "stream",
     "text": [
      "[[ 1.   1.2  3. ]\n",
      " [-1.   2.   0. ]]\n"
     ]
    }
   ],
   "source": [
    "# 여러개의 데이터 종류가 있을 경우 더 넓은 범위의 데이터 단위로 바꾸어서 numpy형태로 만들어준다 -> 일괄계산을 편하게 하기 위함\n",
    "a = [\n",
    "    [1, 1.2, 3],\n",
    "    [-1, 2, 0]\n",
    "]\n",
    "data = np.array(a)\n",
    "print(data)"
   ]
  },
  {
   "cell_type": "code",
   "execution_count": 31,
   "id": "08415cfe-4355-4c0d-8726-e915e19014f5",
   "metadata": {},
   "outputs": [
    {
     "name": "stdout",
     "output_type": "stream",
     "text": [
      "[[ 10.  12.  30.]\n",
      " [-10.  20.   0.]]\n",
      "[[ 2.   2.4  6. ]\n",
      " [-2.   4.   0. ]]\n"
     ]
    }
   ],
   "source": [
    "# 0차원: scala, 1차원: vector, 2차원 : matrix, 3차원: tensor\n",
    "print(data * 10)\n",
    "print(data+data)"
   ]
  },
  {
   "cell_type": "code",
   "execution_count": 32,
   "id": "7fc85736-9d83-4c1c-a14c-3df038900fe4",
   "metadata": {},
   "outputs": [
    {
     "name": "stdout",
     "output_type": "stream",
     "text": [
      "(2, 3)\n",
      "float64\n"
     ]
    }
   ],
   "source": [
    "print(data.shape)\n",
    "print(data.dtype)"
   ]
  },
  {
   "cell_type": "markdown",
   "id": "fd773de3-52b1-4a06-a629-c72e8e6159c1",
   "metadata": {},
   "source": [
    "## ndarray 생성하기\n",
    "- N 차원의 행렬(배열)\n",
    "- list(x), array(o)"
   ]
  },
  {
   "cell_type": "code",
   "execution_count": 35,
   "id": "c55b36a5-5cf0-4917-b19c-76b14507aa09",
   "metadata": {},
   "outputs": [
    {
     "name": "stdout",
     "output_type": "stream",
     "text": [
      "[1 2 3 4 5]\n",
      "<class 'numpy.ndarray'>\n"
     ]
    }
   ],
   "source": [
    "data1 = [1, 2, 3, 4, 5]\n",
    "arr1 = np.array(data1)\n",
    "print(arr1)\n",
    "print(type(arr1))"
   ]
  },
  {
   "cell_type": "code",
   "execution_count": 37,
   "id": "4d1614ed-4419-4669-a110-e8c2d140a2aa",
   "metadata": {},
   "outputs": [
    {
     "name": "stdout",
     "output_type": "stream",
     "text": [
      "[[1.1 2.2 3.3]\n",
      " [4.4 5.5 6.6]]\n",
      "<class 'numpy.ndarray'>\n"
     ]
    }
   ],
   "source": [
    "arr2 = np.array([[1.1, 2.2, 3.3], [4.4, 5.5, 6.6]])\n",
    "print(arr2)\n",
    "print(type(arr2))"
   ]
  },
  {
   "cell_type": "code",
   "execution_count": 38,
   "id": "da9e7695-db8e-4658-9a36-2537ab6752bc",
   "metadata": {},
   "outputs": [
    {
     "name": "stdout",
     "output_type": "stream",
     "text": [
      "1\n",
      "2\n"
     ]
    }
   ],
   "source": [
    "# ndim: 몇차원인지 확인 \n",
    "print(arr1.ndim)\n",
    "print(arr2.ndim)"
   ]
  },
  {
   "cell_type": "code",
   "execution_count": 39,
   "id": "0b819785-d946-41df-a1fa-6cdcb43252ea",
   "metadata": {},
   "outputs": [
    {
     "name": "stdout",
     "output_type": "stream",
     "text": [
      "(5,)\n",
      "(2, 3)\n"
     ]
    }
   ],
   "source": [
    "# shape\n",
    "print(arr1.shape)\n",
    "print(arr2.shape)"
   ]
  },
  {
   "cell_type": "code",
   "execution_count": 44,
   "id": "64a78899-b766-4b31-ba6c-b12976b89199",
   "metadata": {},
   "outputs": [
    {
     "name": "stdout",
     "output_type": "stream",
     "text": [
      "[0. 0. 0. 0. 0. 0. 0. 0. 0. 0.]\n",
      "[[0. 0. 0. 0. 0.]\n",
      " [0. 0. 0. 0. 0.]\n",
      " [0. 0. 0. 0. 0.]\n",
      " [0. 0. 0. 0. 0.]\n",
      " [0. 0. 0. 0. 0.]]\n",
      "[[[0. 0.]\n",
      "  [0. 0.]]\n",
      "\n",
      " [[0. 0.]\n",
      "  [0. 0.]]]\n"
     ]
    }
   ],
   "source": [
    "# 규격을 먼저 만들어 놓을때 사용\n",
    "print(np.zeros(10))\n",
    "# print([0]*10)\n",
    "print(np.zeros((5,5)))\n",
    "print(np.empty((2,2,2)))"
   ]
  },
  {
   "cell_type": "code",
   "execution_count": 45,
   "id": "fbab516b-1f76-48d4-aeba-3b5c509bf6be",
   "metadata": {},
   "outputs": [
    {
     "name": "stdout",
     "output_type": "stream",
     "text": [
      "[0 1 2 3 4 5 6 7 8 9]\n"
     ]
    }
   ],
   "source": [
    "print(np.arange(10))"
   ]
  },
  {
   "cell_type": "markdown",
   "id": "f02e9d03-f038-4e3d-b529-cac04389b299",
   "metadata": {},
   "source": [
    "## ndarray 자료형"
   ]
  },
  {
   "cell_type": "code",
   "execution_count": 47,
   "id": "ec0b0967-7247-4960-b35b-d3236ffb0451",
   "metadata": {},
   "outputs": [
    {
     "name": "stdout",
     "output_type": "stream",
     "text": [
      "float64\n",
      "int32\n"
     ]
    }
   ],
   "source": [
    "arr1 = np.array([1,2,3], dtype = np.float64)\n",
    "arr2 = np.array([1,2,3], dtype = np.int32)\n",
    "\n",
    "print(arr1.dtype)\n",
    "print(arr2.dtype)"
   ]
  },
  {
   "cell_type": "code",
   "execution_count": 53,
   "id": "fbcf2f0d-d480-4ef7-a1c6-32b92869632c",
   "metadata": {},
   "outputs": [
    {
     "name": "stdout",
     "output_type": "stream",
     "text": [
      "int64\n",
      "[1. 2. 3.]\n",
      "float64\n"
     ]
    }
   ],
   "source": [
    "arr1 = np.array([1,2,3])\n",
    "print(arr1.dtype)\n",
    "float_arr1 = arr1.astype(np.float64)\n",
    "print(float_arr1)\n",
    "print(float_arr1.dtype)"
   ]
  },
  {
   "cell_type": "code",
   "execution_count": 56,
   "id": "126958d5-1668-47b8-8740-705f5bbcc902",
   "metadata": {},
   "outputs": [
    {
     "name": "stdout",
     "output_type": "stream",
     "text": [
      "float64\n",
      "[1 2 3]\n",
      "int64\n"
     ]
    }
   ],
   "source": [
    "# 형변환을 했을때 소수점은 모두 버림이 된다\n",
    "arr2 = np.array([1.1, 2.2, 3.3])\n",
    "print(arr2.dtype)\n",
    "int_arr2 = arr2.astype(np.int64)\n",
    "print(int_arr2)\n",
    "print(int_arr2.dtype)"
   ]
  },
  {
   "cell_type": "markdown",
   "id": "9c0db8bd-7c97-477f-81e2-b4ae6cbd2ade",
   "metadata": {},
   "source": [
    "## 산술 연산"
   ]
  },
  {
   "cell_type": "code",
   "execution_count": 65,
   "id": "8511fa6c-8cfa-4110-90e7-9a63f4d946a1",
   "metadata": {},
   "outputs": [
    {
     "name": "stdout",
     "output_type": "stream",
     "text": [
      "[[1 2 3]\n",
      " [4 5 6]]\n",
      "[[ 1  4  9]\n",
      " [16 25 36]]\n",
      "[[ 2  4  6]\n",
      " [ 8 10 12]]\n",
      "[[1.         0.5        0.33333333]\n",
      " [0.25       0.2        0.16666667]]\n",
      "[[  1   8  27]\n",
      " [ 64 125 216]]\n"
     ]
    }
   ],
   "source": [
    "arr = np.array([[1, 2, 3], [4, 5, 6]])\n",
    "print(arr)\n",
    "print(arr * arr) # 같은 위치에 있는 data끼리 곱셈을 진행\n",
    "print(arr + arr)\n",
    "print(1/arr)\n",
    "print(arr ** 3)"
   ]
  },
  {
   "cell_type": "code",
   "execution_count": 67,
   "id": "e2728b84-8be5-4196-ac23-6323638c1b3c",
   "metadata": {},
   "outputs": [
    {
     "name": "stdout",
     "output_type": "stream",
     "text": [
      "[1 2 3] [[3 2 1]\n",
      " [1 2 3]]\n",
      "[[False False  True]\n",
      " [False False False]]\n",
      "[False False  True]\n"
     ]
    }
   ],
   "source": [
    "arr2 = np.array([[3, 2, 1], [1, 2, 3]])\n",
    "print(arr1, arr2)\n",
    "print(arr1 > arr2)\n",
    "print(arr1 == 3)"
   ]
  },
  {
   "cell_type": "markdown",
   "id": "576ce06d-7660-4e7f-8729-16ad05009cf9",
   "metadata": {},
   "source": [
    "## 색인과 슬라이싱"
   ]
  },
  {
   "cell_type": "code",
   "execution_count": 70,
   "id": "b34c6441-e56c-471f-a138-6aecbac84763",
   "metadata": {},
   "outputs": [
    {
     "name": "stdout",
     "output_type": "stream",
     "text": [
      "[0 1 2 3 4 5 6 7 8 9]\n"
     ]
    }
   ],
   "source": [
    "arr = np.arange(10)\n",
    "print(arr)"
   ]
  },
  {
   "cell_type": "code",
   "execution_count": 74,
   "id": "5c731ac6-6253-44c0-ad3b-fd61c9599aae",
   "metadata": {},
   "outputs": [
    {
     "name": "stdout",
     "output_type": "stream",
     "text": [
      "5\n",
      "[2 3 4]\n"
     ]
    }
   ],
   "source": [
    "print(arr[5])\n",
    "print(arr[2:5])"
   ]
  },
  {
   "cell_type": "code",
   "execution_count": 76,
   "id": "88a32b76-15fe-4b96-9485-a9994c48221d",
   "metadata": {},
   "outputs": [
    {
     "name": "stdout",
     "output_type": "stream",
     "text": [
      "[ 0  1 10 10 10  5  6  7  8  9]\n"
     ]
    }
   ],
   "source": [
    "arr[2:5] = 10\n",
    "print(arr)"
   ]
  },
  {
   "cell_type": "code",
   "execution_count": 80,
   "id": "64b91922-531c-47ca-a282-58e754ab5bb9",
   "metadata": {},
   "outputs": [
    {
     "name": "stdout",
     "output_type": "stream",
     "text": [
      "[1, 2, 3, 4, 5]\n"
     ]
    }
   ],
   "source": [
    "py_list = [1,2,3,4,5]\n",
    "py_list[2:3].pop()\n",
    "print(py_list)"
   ]
  },
  {
   "cell_type": "code",
   "execution_count": 83,
   "id": "ee9bbe1f-06c7-4900-906d-15cc5582efe1",
   "metadata": {},
   "outputs": [
    {
     "name": "stdout",
     "output_type": "stream",
     "text": [
      "[[1 2 3]\n",
      " [4 5 6]]\n"
     ]
    }
   ],
   "source": [
    "arr = np.array([[1, 2, 3],[4, 5, 6]])\n",
    "print(arr)"
   ]
  },
  {
   "cell_type": "code",
   "execution_count": 85,
   "id": "b1d599ed-6495-4287-9998-a08bc909e223",
   "metadata": {},
   "outputs": [
    {
     "name": "stdout",
     "output_type": "stream",
     "text": [
      "5\n",
      "5\n"
     ]
    }
   ],
   "source": [
    "print(arr[1][1])\n",
    "print(arr[1,1])"
   ]
  },
  {
   "cell_type": "code",
   "execution_count": 87,
   "id": "8b092d35-7b80-40b0-b066-b24e0fe44b50",
   "metadata": {},
   "outputs": [
    {
     "name": "stdout",
     "output_type": "stream",
     "text": [
      "[[[ 1  2  3]\n",
      "  [ 4  5  6]\n",
      "  [ 7  8  9]]\n",
      "\n",
      " [[11 12 13]\n",
      "  [14 15 16]\n",
      "  [17 18 19]]\n",
      "\n",
      " [[20 21 22]\n",
      "  [23 24 25]\n",
      "  [26 27 28]]]\n"
     ]
    }
   ],
   "source": [
    "arr_3d = np.array([[[1,2,3],[4,5,6],[7,8,9]],\n",
    "          [[11,12,13],[14,15,16],[17,18,19]],\n",
    "          [[20,21,22],[23,24,25],[26,27,28]]])\n",
    "\n",
    "print(arr_3d)"
   ]
  },
  {
   "cell_type": "code",
   "execution_count": 91,
   "id": "38119286-4f54-46c5-b639-4bce0e55f8bf",
   "metadata": {},
   "outputs": [
    {
     "name": "stdout",
     "output_type": "stream",
     "text": [
      "21\n",
      "21\n"
     ]
    }
   ],
   "source": [
    "print(arr_3d[2][0][1])\n",
    "print(arr_3d[2,0,1])"
   ]
  },
  {
   "cell_type": "code",
   "execution_count": 94,
   "id": "8e05ca54-0abf-45b3-a259-619c56ded670",
   "metadata": {},
   "outputs": [
    {
     "data": {
      "text/plain": [
       "array([[[6],\n",
       "        [9]]])"
      ]
     },
     "execution_count": 94,
     "metadata": {},
     "output_type": "execute_result"
    }
   ],
   "source": [
    "arr_3d[:1, 1:, 2:]"
   ]
  },
  {
   "cell_type": "code",
   "execution_count": 96,
   "id": "d3bfda5f-588b-48a5-adf3-d8345506f780",
   "metadata": {},
   "outputs": [
    {
     "data": {
      "text/plain": [
       "array([[[   1,    2,    3],\n",
       "        [   4,    5, 9999],\n",
       "        [   7,    8, 9999]],\n",
       "\n",
       "       [[  11,   12,   13],\n",
       "        [  14,   15, 9999],\n",
       "        [  17,   18, 9999]],\n",
       "\n",
       "       [[  20,   21,   22],\n",
       "        [  23,   24,   25],\n",
       "        [  26,   27,   28]]])"
      ]
     },
     "execution_count": 96,
     "metadata": {},
     "output_type": "execute_result"
    }
   ],
   "source": [
    "arr_3d[0, 1:, 2:] = 9999\n",
    "arr_3d"
   ]
  },
  {
   "cell_type": "markdown",
   "id": "b19f141c-dc02-4f45-8fed-72e96b2e83a1",
   "metadata": {},
   "source": [
    "## 불리언 값으로 선택"
   ]
  },
  {
   "cell_type": "code",
   "execution_count": 100,
   "id": "3df75b71-c8c2-4262-a3d8-1449012f8e50",
   "metadata": {},
   "outputs": [],
   "source": [
    "names = np.array(['hong', 'kim', 'hong', 'kim'])\n",
    "data = np.array([['math', 60],['math', 90],['eng', 70],['enmg', 50]])"
   ]
  },
  {
   "cell_type": "code",
   "execution_count": 101,
   "id": "0968a5ff-7a40-434b-852f-ca071a2f4ae1",
   "metadata": {},
   "outputs": [
    {
     "data": {
      "text/plain": [
       "array([ True, False,  True, False])"
      ]
     },
     "execution_count": 101,
     "metadata": {},
     "output_type": "execute_result"
    }
   ],
   "source": [
    "names == 'hong'"
   ]
  },
  {
   "cell_type": "code",
   "execution_count": 104,
   "id": "8ff64dcc-da21-4ff2-a13f-d2778f1c3fb5",
   "metadata": {},
   "outputs": [
    {
     "data": {
      "text/plain": [
       "array([['math', '60'],\n",
       "       ['eng', '70']], dtype='<U21')"
      ]
     },
     "execution_count": 104,
     "metadata": {},
     "output_type": "execute_result"
    }
   ],
   "source": [
    "# data[[True, False, True, False]]\n",
    "# 특정 조건에 맞는 데이터 사용\n",
    "data[names == 'hong']"
   ]
  },
  {
   "cell_type": "code",
   "execution_count": 110,
   "id": "cc56d583-df89-40d0-ae71-6c4d6e0b0c63",
   "metadata": {},
   "outputs": [
    {
     "name": "stdout",
     "output_type": "stream",
     "text": [
      "['60' '70']\n",
      "[['math']\n",
      " ['eng']]\n"
     ]
    }
   ],
   "source": [
    "print(data[names == 'hong', 1])\n",
    "print(data[names == 'hong', :1])"
   ]
  },
  {
   "cell_type": "code",
   "execution_count": 113,
   "id": "72836588-aa73-4b0b-b930-d42b29d73460",
   "metadata": {},
   "outputs": [
    {
     "name": "stdout",
     "output_type": "stream",
     "text": [
      "[False  True False  True]\n",
      "[False  True False  True]\n"
     ]
    }
   ],
   "source": [
    "# !는 아닌것을 뜻하지만 ~는 결과를 그대로 출력 한다음 역을 보여준다\n",
    "print(names != 'hong')\n",
    "print(~(names == 'hong'))"
   ]
  },
  {
   "cell_type": "code",
   "execution_count": 114,
   "id": "5ba56023-a3b4-4887-b380-e5bae64eb236",
   "metadata": {},
   "outputs": [
    {
     "data": {
      "text/plain": [
       "array([['math', '90'],\n",
       "       ['enmg', '50']], dtype='<U21')"
      ]
     },
     "execution_count": 114,
     "metadata": {},
     "output_type": "execute_result"
    }
   ],
   "source": [
    "cond = names == 'kim'\n",
    "data[cond]"
   ]
  },
  {
   "cell_type": "markdown",
   "id": "cd8c65a6-e63f-4984-8bdb-5dac946c2807",
   "metadata": {},
   "source": [
    "## 팬시 색인(fancy indexing)\n",
    "- 범위 지정이 아닌 직접 지정해서 갖고 온다"
   ]
  },
  {
   "cell_type": "code",
   "execution_count": 123,
   "id": "e74875af-0fbc-4876-8cf8-0896cb57b0cc",
   "metadata": {},
   "outputs": [
    {
     "name": "stdout",
     "output_type": "stream",
     "text": [
      "[[0. 0. 0. 0.]\n",
      " [0. 0. 0. 0.]\n",
      " [0. 0. 0. 0.]\n",
      " [0. 0. 0. 0.]\n",
      " [0. 0. 0. 0.]\n",
      " [0. 0. 0. 0.]\n",
      " [0. 0. 0. 0.]\n",
      " [0. 0. 0. 0.]]\n",
      "[[0. 0. 0. 0.]\n",
      " [1. 1. 1. 1.]\n",
      " [2. 2. 2. 2.]\n",
      " [3. 3. 3. 3.]\n",
      " [4. 4. 4. 4.]\n",
      " [5. 5. 5. 5.]\n",
      " [6. 6. 6. 6.]\n",
      " [7. 7. 7. 7.]]\n"
     ]
    }
   ],
   "source": [
    "arr = np.zeros((8,4))\n",
    "print(arr)\n",
    "\n",
    "for i in range(8):\n",
    "    arr[i] = i\n",
    "print(arr)"
   ]
  },
  {
   "cell_type": "code",
   "execution_count": 124,
   "id": "7515f6fc-be1e-414d-9850-eb4bbe8cae2c",
   "metadata": {},
   "outputs": [
    {
     "data": {
      "text/plain": [
       "array([[4., 4., 4., 4.],\n",
       "       [3., 3., 3., 3.],\n",
       "       [0., 0., 0., 0.],\n",
       "       [5., 5., 5., 5.]])"
      ]
     },
     "execution_count": 124,
     "metadata": {},
     "output_type": "execute_result"
    }
   ],
   "source": [
    "arr[[4,3,0,5]]"
   ]
  },
  {
   "cell_type": "code",
   "execution_count": 126,
   "id": "9250eec9-48d0-4b5a-b5c6-925489f74f89",
   "metadata": {},
   "outputs": [
    {
     "data": {
      "text/plain": [
       "array([[5., 5., 5., 5.],\n",
       "       [3., 3., 3., 3.],\n",
       "       [7., 7., 7., 7.]])"
      ]
     },
     "execution_count": 126,
     "metadata": {},
     "output_type": "execute_result"
    }
   ],
   "source": [
    "arr[[-3, -5, -1]]"
   ]
  },
  {
   "cell_type": "code",
   "execution_count": 132,
   "id": "8ed379a4-7acd-409d-81bf-eaf9df67f3bd",
   "metadata": {},
   "outputs": [
    {
     "name": "stdout",
     "output_type": "stream",
     "text": [
      "[[ 0  1  2  3]\n",
      " [ 4  5  6  7]\n",
      " [ 8  9 10 11]\n",
      " [12 13 14 15]\n",
      " [16 17 18 19]\n",
      " [20 21 22 23]\n",
      " [24 25 26 27]\n",
      " [28 29 30 31]]\n"
     ]
    }
   ],
   "source": [
    "# reshape(): 내가 갖고 있는 행렬의 배열을 변환할때 사용\n",
    "arr = np.arange(32).reshape(8,4)\n",
    "print(arr)"
   ]
  },
  {
   "cell_type": "code",
   "execution_count": 135,
   "id": "55f611bd-9668-41c9-9eff-04dea5e696b9",
   "metadata": {},
   "outputs": [
    {
     "data": {
      "text/plain": [
       "array([ 6, 23])"
      ]
     },
     "execution_count": 135,
     "metadata": {},
     "output_type": "execute_result"
    }
   ],
   "source": [
    "arr[[1,5], [2,3]]"
   ]
  },
  {
   "cell_type": "code",
   "execution_count": 137,
   "id": "8a6b5d0c-2fdb-4147-b973-04425626dc81",
   "metadata": {},
   "outputs": [
    {
     "data": {
      "text/plain": [
       "array([[ 6,  7],\n",
       "       [22, 23]])"
      ]
     },
     "execution_count": 137,
     "metadata": {},
     "output_type": "execute_result"
    }
   ],
   "source": [
    "arr[[1,5]][:, [2,3]]"
   ]
  },
  {
   "cell_type": "markdown",
   "id": "85ad8692-6d05-45c5-a2cd-d21195ee2a73",
   "metadata": {},
   "source": [
    "## 배열 전치"
   ]
  },
  {
   "cell_type": "code",
   "execution_count": 142,
   "id": "888da9af-107c-4c5f-9186-20bb98e0a44c",
   "metadata": {},
   "outputs": [
    {
     "name": "stdout",
     "output_type": "stream",
     "text": [
      "[[ 0  1  2  3  4]\n",
      " [ 5  6  7  8  9]\n",
      " [10 11 12 13 14]]\n"
     ]
    }
   ],
   "source": [
    "arr = np.arange(15).reshape(3,5)\n",
    "print(arr)"
   ]
  },
  {
   "cell_type": "code",
   "execution_count": 143,
   "id": "590fcdf6-050e-4197-b059-7ba8a70741ab",
   "metadata": {},
   "outputs": [
    {
     "name": "stdout",
     "output_type": "stream",
     "text": [
      "[[ 0  5 10]\n",
      " [ 1  6 11]\n",
      " [ 2  7 12]\n",
      " [ 3  8 13]\n",
      " [ 4  9 14]]\n"
     ]
    }
   ],
   "source": [
    "print(arr.T)"
   ]
  },
  {
   "cell_type": "code",
   "execution_count": 146,
   "id": "72903910-3a8c-429c-a285-4f685e9f905c",
   "metadata": {},
   "outputs": [
    {
     "name": "stdout",
     "output_type": "stream",
     "text": [
      "[[ 30  80 130]\n",
      " [ 80 255 430]\n",
      " [130 430 730]]\n",
      "[[ 30  80 130]\n",
      " [ 80 255 430]\n",
      " [130 430 730]]\n"
     ]
    }
   ],
   "source": [
    "# 행령의 내적, 곱셉\n",
    "print(arr @ arr.T)\n",
    "print(np.dot(arr, arr.T))"
   ]
  },
  {
   "cell_type": "code",
   "execution_count": null,
   "id": "b871b1a5-c397-4c49-b3b5-f0119c41749d",
   "metadata": {},
   "outputs": [],
   "source": []
  }
 ],
 "metadata": {
  "kernelspec": {
   "display_name": "Python 3 (ipykernel)",
   "language": "python",
   "name": "python3"
  },
  "language_info": {
   "codemirror_mode": {
    "name": "ipython",
    "version": 3
   },
   "file_extension": ".py",
   "mimetype": "text/x-python",
   "name": "python",
   "nbconvert_exporter": "python",
   "pygments_lexer": "ipython3",
   "version": "3.13.2"
  }
 },
 "nbformat": 4,
 "nbformat_minor": 5
}
